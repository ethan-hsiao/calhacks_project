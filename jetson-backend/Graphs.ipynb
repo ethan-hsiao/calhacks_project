{
 "cells": [
  {
   "cell_type": "code",
   "execution_count": 1,
   "metadata": {},
   "outputs": [],
   "source": [
    "import numpy as np\n",
    "from math import *\n",
    "import matplotlib.pyplot as plt"
   ]
  },
  {
   "cell_type": "code",
   "execution_count": 99,
   "metadata": {},
   "outputs": [],
   "source": [
    "class Graph(object):\n",
    "    def __init__(self, edge_list=None, coords=None):\n",
    "        \"\"\" initializes a graph object from either an edge list (priority) \n",
    "            or an array of points 2d points (will connect everything together)\n",
    "        \"\"\"\n",
    "        if edge_list:\n",
    "            self.edge_list = edge_list\n",
    "        elif coords:\n",
    "            self.edge_list = self.gen_edge_list(coords)\n",
    "        else:\n",
    "            self.edge_list = []\n",
    "\n",
    "    def edges(self):\n",
    "        \"\"\" returns the edges of a graph \"\"\"\n",
    "        return self.edge_list\n",
    "    \n",
    "    def add_edge(self, edge):\n",
    "        \"\"\" appends an edge to edge list\"\"\"\n",
    "        self.edge_list.append(edge)\n",
    "        \n",
    "    def gen_edge_list(self, coords):\n",
    "        \"\"\"generates an edge list from unlabeled coordinates\"\"\"\n",
    "        def distance(p1,p2):\n",
    "            return sqrt((p1[0]-p2[0])**2 + (p1[1]-p2[1])**2)\n",
    "        \n",
    "        edge_list = []\n",
    "        for i, p1 in enumerate(coords):\n",
    "            for j, p2 in enumerate(coords):\n",
    "                if i<j:\n",
    "                    edge_list.append([i,j,distance(p1,p2)])\n",
    "        return edge_list\n",
    "                    \n",
    "    def get_adj_list(self):\n",
    "        \"\"\"return adj list representation of self\"\"\"\n",
    "        adj_list = [[] for i in range(self.size())]\n",
    "        \n",
    "        for a,b,c in self.edge_list:\n",
    "            adj_list[a].append([b,c])\n",
    "        \n",
    "        return adj_list\n",
    "    \n",
    "    def get_max_length(self):\n",
    "        adj_list = self.get_adj_list()\n",
    "        visited = [False for i in range(self.size())]\n",
    "        def dfs(a):\n",
    "            if visited[a]:\n",
    "                return 0\n",
    "            visited[a] = True\n",
    "            total = 1\n",
    "            for b,w in adj_list[a]:\n",
    "                total += dfs(b)\n",
    "            return total\n",
    "        lengths = [dfs(a) for a in range(self.size())]\n",
    "        if lengths:\n",
    "            return max(lengths)\n",
    "        else:\n",
    "            return 0\n",
    "\n",
    "    def mst(self):\n",
    "        \"\"\" returns an MST of self\"\"\"\n",
    "        self.edge_list = sorted(self.edge_list, key = lambda x: x[2])\n",
    "        \n",
    "        new_edge_list = []\n",
    "        \n",
    "        link = [i for i in range(self.size())]\n",
    "        size = [1 for i in range(self.size())]\n",
    "        \n",
    "        def find(x):\n",
    "            while x!=link[x]:\n",
    "                x = link[x]\n",
    "            return x\n",
    "        \n",
    "        def same(a,b):\n",
    "            return find(a)==find(b)\n",
    "        \n",
    "        def unite(a,b,c):\n",
    "            new_edge_list.append([a,b,c])\n",
    "            a = find(a)\n",
    "            b = find(b)\n",
    "            if (size[a]<size[b]):\n",
    "                temp = a\n",
    "                a = b\n",
    "                b = temp\n",
    "            size[a] += size[b]\n",
    "            link[b] = a\n",
    "            \n",
    "        for a,b,c in self.edge_list:\n",
    "            if not same(a,b):\n",
    "                unite(a,b,c)\n",
    "        \n",
    "        return Graph(new_edge_list)\n",
    "    \n",
    "    def prune_long_edges(self, z_score):\n",
    "        \"\"\"returns a graph with edges with edges more than z_score std deviations away from mean\"\"\"\n",
    "        lengths = np.array([c for a,b,c in self.edge_list])\n",
    "        std = np.std(lengths)\n",
    "        mean = np.mean(lengths)\n",
    "        \n",
    "        new_edge_list = [[a,b,c] for a,b,c in self.edge_list if (c-mean)/std < z_score]\n",
    "        \n",
    "        return Graph(new_edge_list)\n",
    "    \n",
    "    def faces_to_connections(faces):\n",
    "        \"\"\"faces - array of [[x0,y0,w0,h0],[x1,y1,w1,h1],...]\n",
    "           connections - array [[x0,y0,x1,y1],...] where x0,y0 to x1,y1 connects the centers of faces \n",
    "           from faces array with mst. ROUNDING to int\n",
    "        \"\"\"\n",
    "        \n",
    "        g = []\n",
    "        for (x, y, w, h) in faces:\n",
    "            g.append([x+w/2,y+h/2])\n",
    "        graph = Graph(coords=g)\n",
    "        \n",
    "        c = []\n",
    "        for a, connections in enumerate(graph.mst().get_adj_list()):\n",
    "            for b,w in connections:\n",
    "                c.append([int(faces[a][0]+faces[a][2]/2),int(faces[a][1]+faces[a][3]/2),int(faces[b][0]+faces[b][2]/2),int(faces[b][1]+faces[b][3]/2)])\n",
    "        return c\n",
    "        \n",
    "    def size(self):\n",
    "        \"\"\"returns number of nodes\"\"\"\n",
    "        s = 0\n",
    "        for a,b,w in self.edge_list:\n",
    "            s = max(max(a+1,b+1),s)\n",
    "        return s\n",
    "    \n",
    "    def __str__(self):\n",
    "        res = \"edges:\"\n",
    "        for a,b,c in self.edge_list:\n",
    "            res += '\\n'+str(a)+'=>'+str(b)+'   weight = ' + str(round(c,2))\n",
    "        return res"
   ]
  },
  {
   "cell_type": "code",
   "execution_count": 85,
   "metadata": {},
   "outputs": [],
   "source": [
    "g = [[0,1,3],\n",
    "     [1,2,2],\n",
    "     [2,3,3],\n",
    "     [0,2,2],\n",
    "     [3,1,1],\n",
    "     [3,0,2]\n",
    "    ]\n",
    "graph = Graph(edge_list=g)"
   ]
  },
  {
   "cell_type": "code",
   "execution_count": 86,
   "metadata": {},
   "outputs": [
    {
     "name": "stdout",
     "output_type": "stream",
     "text": [
      "edges:\n",
      "0=>1   weight = 3\n",
      "1=>2   weight = 2\n",
      "2=>3   weight = 3\n",
      "0=>2   weight = 2\n",
      "3=>1   weight = 1\n",
      "3=>0   weight = 2\n"
     ]
    }
   ],
   "source": [
    "print(graph)"
   ]
  },
  {
   "cell_type": "code",
   "execution_count": 87,
   "metadata": {},
   "outputs": [
    {
     "name": "stdout",
     "output_type": "stream",
     "text": [
      "edges:\n",
      "3=>1   weight = 1\n",
      "1=>2   weight = 2\n",
      "0=>2   weight = 2\n"
     ]
    }
   ],
   "source": [
    "print(graph.mst())"
   ]
  },
  {
   "cell_type": "code",
   "execution_count": 88,
   "metadata": {},
   "outputs": [
    {
     "name": "stdout",
     "output_type": "stream",
     "text": [
      "edges:\n",
      "3=>1   weight = 1\n"
     ]
    }
   ],
   "source": [
    "print(graph.mst().prune_long_edges(0.2))"
   ]
  },
  {
   "cell_type": "code",
   "execution_count": 89,
   "metadata": {},
   "outputs": [],
   "source": [
    "p = [[0,0],\n",
    "     [-1,-1],\n",
    "     [0,-3],\n",
    "     [4,3],\n",
    "     [10,8],\n",
    "     [0,5],\n",
    "     [-4,5]\n",
    "    ]\n",
    "graph = Graph(coords=p)"
   ]
  },
  {
   "cell_type": "code",
   "execution_count": 90,
   "metadata": {},
   "outputs": [
    {
     "name": "stdout",
     "output_type": "stream",
     "text": [
      "edges:\n",
      "0=>1   weight = 1.41\n",
      "0=>2   weight = 3.0\n",
      "0=>3   weight = 5.0\n",
      "0=>4   weight = 12.81\n",
      "0=>5   weight = 5.0\n",
      "0=>6   weight = 6.4\n",
      "1=>2   weight = 2.24\n",
      "1=>3   weight = 6.4\n",
      "1=>4   weight = 14.21\n",
      "1=>5   weight = 6.08\n",
      "1=>6   weight = 6.71\n",
      "2=>3   weight = 7.21\n",
      "2=>4   weight = 14.87\n",
      "2=>5   weight = 8.0\n",
      "2=>6   weight = 8.94\n",
      "3=>4   weight = 7.81\n",
      "3=>5   weight = 4.47\n",
      "3=>6   weight = 8.25\n",
      "4=>5   weight = 10.44\n",
      "4=>6   weight = 14.32\n",
      "5=>6   weight = 4.0\n"
     ]
    }
   ],
   "source": [
    "print(graph)"
   ]
  },
  {
   "cell_type": "code",
   "execution_count": 91,
   "metadata": {},
   "outputs": [
    {
     "data": {
      "image/png": "[encoded data removed]",
      "text/plain": [
       "<Figure size 432x288 with 1 Axes>"
      ]
     },
     "metadata": {
      "needs_background": "light"
     },
     "output_type": "display_data"
    }
   ],
   "source": [
    "plt.plot([a[0] for a in p], [a[1] for a in p], 'ro')\n",
    "\n",
    "for i, xy in enumerate(p):\n",
    "    plt.annotate(str(i), xy)\n",
    "plt.show()"
   ]
  },
  {
   "cell_type": "code",
   "execution_count": 92,
   "metadata": {},
   "outputs": [
    {
     "name": "stdout",
     "output_type": "stream",
     "text": [
      "edges:\n",
      "0=>1   weight = 1.41\n",
      "1=>2   weight = 2.24\n",
      "5=>6   weight = 4.0\n",
      "3=>5   weight = 4.47\n",
      "0=>3   weight = 5.0\n",
      "3=>4   weight = 7.81\n"
     ]
    }
   ],
   "source": [
    "print(graph.mst())"
   ]
  },
  {
   "cell_type": "code",
   "execution_count": 93,
   "metadata": {},
   "outputs": [
    {
     "name": "stdout",
     "output_type": "stream",
     "text": [
      "[[[1, 1.4142135623730951]], [[2, 2.23606797749979]], [], [], [], [[6, 4.0]], []]\n"
     ]
    }
   ],
   "source": [
    "print(graph.mst().prune_long_edges(0.1).get_adj_list())"
   ]
  },
  {
   "cell_type": "code",
   "execution_count": 94,
   "metadata": {},
   "outputs": [
    {
     "name": "stdout",
     "output_type": "stream",
     "text": [
      "3\n"
     ]
    }
   ],
   "source": [
    "print(graph.mst().prune_long_edges(0.1).get_max_length())"
   ]
  },
  {
   "cell_type": "code",
   "execution_count": 95,
   "metadata": {},
   "outputs": [],
   "source": [
    "import cv2"
   ]
  },
  {
   "cell_type": "code",
   "execution_count": 67,
   "metadata": {},
   "outputs": [],
   "source": [
    "cap = cv2.VideoCapture(0)\n",
    "\n",
    "while(True):\n",
    "    # Capture frame-by-frame\n",
    "    ret, frame = cap.read()\n",
    "\n",
    "    # Our operations on the frame come here\n",
    "    #gray = cv2.cvtColor(frame, cv2.COLOR_BGR2GRAY)\n",
    "\n",
    "    # Display the resulting frame\n",
    "    cv2.imshow('frame',frame)\n",
    "    if cv2.waitKey(1) & 0xFF == ord('q'):\n",
    "        break\n",
    "\n",
    "# When everything done, release the capture\n",
    "cap.release()\n",
    "cv2.destroyAllWindows()"
   ]
  },
  {
   "cell_type": "code",
   "execution_count": 100,
   "metadata": {},
   "outputs": [],
   "source": [
    "# Load the cascade\n",
    "face_cascade = cv2.CascadeClassifier('/anaconda3/pkgs/libopencv-3.4.2-h7c891bd_1/share/OpenCV/haarcascades/haarcascade_frontalface_default.xml')\n",
    "\n",
    "# To capture video from webcam. \n",
    "cap = cv2.VideoCapture(0)\n",
    "# To use a video file as input \n",
    "# cap = cv2.VideoCapture('filename.mp4')\n",
    "\n",
    "while True:\n",
    "    # Read the frame\n",
    "    _, img = cap.read()\n",
    "    # Convert to grayscale\n",
    "    gray = cv2.cvtColor(img, cv2.COLOR_BGR2GRAY)\n",
    "    # Detect the faces\n",
    "    faces = face_cascade.detectMultiScale(gray, 1.1, 4)\n",
    "    # Draw the rectangle around each face\n",
    "    for (x, y, w, h) in faces:\n",
    "        cv2.rectangle(img, (x, y), (x+w, y+h), (255, 0, 0), 2)\n",
    "    # Display\n",
    "    for x1,y1,x2,y2 in Graph.faces_to_connections(faces):\n",
    "            cv2.line(img, (x1,y1), (x2,y2),(255, 0, 0), 5)\n",
    "    cv2.imshow('img', img)\n",
    "    # Stop if escape key is pressed\n",
    "    if cv2.waitKey(1) & 0xFF == ord('q'):\n",
    "        break\n",
    "# Release the VideoCapture object\n",
    "cap.release()"
   ]
  },
  {
   "cell_type": "code",
   "execution_count": null,
   "metadata": {},
   "outputs": [],
   "source": []
  },
  {
   "cell_type": "code",
   "execution_count": null,
   "metadata": {},
   "outputs": [],
   "source": []
  }
 ],
 "metadata": {
  "kernelspec": {
   "display_name": "Python 3",
   "language": "python",
   "name": "python3"
  },
  "language_info": {
   "codemirror_mode": {
    "name": "ipython",
    "version": 3
   },
   "file_extension": ".py",
   "mimetype": "text/x-python",
   "name": "python",
   "nbconvert_exporter": "python",
   "pygments_lexer": "ipython3",
   "version": "3.7.3"
  }
 },
 "nbformat": 4,
 "nbformat_minor": 2
}
